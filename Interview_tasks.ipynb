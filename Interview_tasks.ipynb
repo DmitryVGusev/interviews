{
 "cells": [
  {
   "cell_type": "markdown",
   "metadata": {},
   "source": [
    "## Задание 1. \n",
    "## Определить максимальное количество людей, одновременно находившихся в системе.\n",
    "Показать код и прокомментировать ход решения.\n",
    "исходные данные test1.xlsx"
   ]
  },
  {
   "cell_type": "markdown",
   "metadata": {},
   "source": [
    "### Решение"
   ]
  },
  {
   "cell_type": "code",
   "execution_count": 158,
   "metadata": {},
   "outputs": [],
   "source": [
    "import pandas as pd\n",
    "import numpy as np\n",
    "import matplotlib.pyplot as plt\n",
    "%matplotlib inline\n",
    "\n",
    "import warnings\n",
    "warnings.filterwarnings('ignore')"
   ]
  },
  {
   "cell_type": "markdown",
   "metadata": {},
   "source": [
    "Загоним исходные данные в датасет для последующих манипуляций:"
   ]
  },
  {
   "cell_type": "code",
   "execution_count": 3,
   "metadata": {},
   "outputs": [],
   "source": [
    "df = pd.read_excel('test1.xlsx')"
   ]
  },
  {
   "cell_type": "markdown",
   "metadata": {},
   "source": [
    "#### Подготовка датасета"
   ]
  },
  {
   "cell_type": "markdown",
   "metadata": {},
   "source": [
    "Оценим датасет"
   ]
  },
  {
   "cell_type": "code",
   "execution_count": 4,
   "metadata": {},
   "outputs": [
    {
     "name": "stdout",
     "output_type": "stream",
     "text": [
      "<class 'pandas.core.frame.DataFrame'>\n",
      "RangeIndex: 4174 entries, 0 to 4173\n",
      "Data columns (total 3 columns):\n",
      "Имя пользователя    4174 non-null object\n",
      "Время входа         4174 non-null datetime64[ns]\n",
      "Время выхода        4171 non-null object\n",
      "dtypes: datetime64[ns](1), object(2)\n",
      "memory usage: 97.9+ KB\n"
     ]
    }
   ],
   "source": [
    "df.info()"
   ]
  },
  {
   "cell_type": "markdown",
   "metadata": {},
   "source": [
    "Для удобства, поменяем названия признаков"
   ]
  },
  {
   "cell_type": "code",
   "execution_count": 5,
   "metadata": {},
   "outputs": [],
   "source": [
    "df.rename(\n",
    "    columns={\n",
    "        'Имя пользователя': 'username',\n",
    "        'Время входа': 'login_dt',\n",
    "        'Время выхода': 'logout_dt'\n",
    "    }, \n",
    "    inplace=True)"
   ]
  },
  {
   "cell_type": "code",
   "execution_count": 6,
   "metadata": {},
   "outputs": [
    {
     "data": {
      "text/html": [
       "<div>\n",
       "<style scoped>\n",
       "    .dataframe tbody tr th:only-of-type {\n",
       "        vertical-align: middle;\n",
       "    }\n",
       "\n",
       "    .dataframe tbody tr th {\n",
       "        vertical-align: top;\n",
       "    }\n",
       "\n",
       "    .dataframe thead th {\n",
       "        text-align: right;\n",
       "    }\n",
       "</style>\n",
       "<table border=\"1\" class=\"dataframe\">\n",
       "  <thead>\n",
       "    <tr style=\"text-align: right;\">\n",
       "      <th></th>\n",
       "      <th>username</th>\n",
       "      <th>login_dt</th>\n",
       "      <th>logout_dt</th>\n",
       "    </tr>\n",
       "  </thead>\n",
       "  <tbody>\n",
       "    <tr>\n",
       "      <th>0</th>\n",
       "      <td>t.silaeva</td>\n",
       "      <td>2013-11-01 10:03:49</td>\n",
       "      <td>2013-11-01 10:48:48</td>\n",
       "    </tr>\n",
       "  </tbody>\n",
       "</table>\n",
       "</div>"
      ],
      "text/plain": [
       "    username            login_dt            logout_dt\n",
       "0  t.silaeva 2013-11-01 10:03:49  2013-11-01 10:48:48"
      ]
     },
     "execution_count": 6,
     "metadata": {},
     "output_type": "execute_result"
    }
   ],
   "source": [
    "df.head(1)"
   ]
  },
  {
   "cell_type": "markdown",
   "metadata": {},
   "source": [
    "Приведем признак __Время выхода__ к типу `datetime`"
   ]
  },
  {
   "cell_type": "code",
   "execution_count": 7,
   "metadata": {},
   "outputs": [],
   "source": [
    "df['logout_dt'] = pd.to_datetime(df['logout_dt'], format='%Y-%m-%d %H:%M:%S', errors='coerce')"
   ]
  },
  {
   "cell_type": "code",
   "execution_count": 8,
   "metadata": {},
   "outputs": [
    {
     "name": "stdout",
     "output_type": "stream",
     "text": [
      "<class 'pandas.core.frame.DataFrame'>\n",
      "RangeIndex: 4174 entries, 0 to 4173\n",
      "Data columns (total 3 columns):\n",
      "username     4174 non-null object\n",
      "login_dt     4174 non-null datetime64[ns]\n",
      "logout_dt    4170 non-null datetime64[ns]\n",
      "dtypes: datetime64[ns](2), object(1)\n",
      "memory usage: 97.9+ KB\n"
     ]
    }
   ],
   "source": [
    "df.info()"
   ]
  },
  {
   "cell_type": "markdown",
   "metadata": {},
   "source": [
    "Проверим строки с пустыми признаками"
   ]
  },
  {
   "cell_type": "code",
   "execution_count": 9,
   "metadata": {
    "scrolled": true
   },
   "outputs": [
    {
     "data": {
      "text/html": [
       "<div>\n",
       "<style scoped>\n",
       "    .dataframe tbody tr th:only-of-type {\n",
       "        vertical-align: middle;\n",
       "    }\n",
       "\n",
       "    .dataframe tbody tr th {\n",
       "        vertical-align: top;\n",
       "    }\n",
       "\n",
       "    .dataframe thead th {\n",
       "        text-align: right;\n",
       "    }\n",
       "</style>\n",
       "<table border=\"1\" class=\"dataframe\">\n",
       "  <thead>\n",
       "    <tr style=\"text-align: right;\">\n",
       "      <th></th>\n",
       "      <th>username</th>\n",
       "      <th>login_dt</th>\n",
       "      <th>logout_dt</th>\n",
       "    </tr>\n",
       "  </thead>\n",
       "  <tbody>\n",
       "    <tr>\n",
       "      <th>4162</th>\n",
       "      <td>stepanov_oper</td>\n",
       "      <td>2014-02-19 12:12:36</td>\n",
       "      <td>NaT</td>\n",
       "    </tr>\n",
       "    <tr>\n",
       "      <th>4171</th>\n",
       "      <td>savenkov</td>\n",
       "      <td>2014-02-19 13:52:35</td>\n",
       "      <td>NaT</td>\n",
       "    </tr>\n",
       "    <tr>\n",
       "      <th>4172</th>\n",
       "      <td>p.sharobarov</td>\n",
       "      <td>2014-02-19 14:17:35</td>\n",
       "      <td>NaT</td>\n",
       "    </tr>\n",
       "    <tr>\n",
       "      <th>4173</th>\n",
       "      <td>y.dishel</td>\n",
       "      <td>2014-02-19 14:32:35</td>\n",
       "      <td>NaT</td>\n",
       "    </tr>\n",
       "  </tbody>\n",
       "</table>\n",
       "</div>"
      ],
      "text/plain": [
       "           username            login_dt logout_dt\n",
       "4162  stepanov_oper 2014-02-19 12:12:36       NaT\n",
       "4171       savenkov 2014-02-19 13:52:35       NaT\n",
       "4172   p.sharobarov 2014-02-19 14:17:35       NaT\n",
       "4173       y.dishel 2014-02-19 14:32:35       NaT"
      ]
     },
     "execution_count": 9,
     "metadata": {},
     "output_type": "execute_result"
    }
   ],
   "source": [
    "df[df['logout_dt'].isnull()]"
   ]
  },
  {
   "cell_type": "code",
   "execution_count": 10,
   "metadata": {},
   "outputs": [
    {
     "data": {
      "text/html": [
       "<div>\n",
       "<style scoped>\n",
       "    .dataframe tbody tr th:only-of-type {\n",
       "        vertical-align: middle;\n",
       "    }\n",
       "\n",
       "    .dataframe tbody tr th {\n",
       "        vertical-align: top;\n",
       "    }\n",
       "\n",
       "    .dataframe thead th {\n",
       "        text-align: right;\n",
       "    }\n",
       "</style>\n",
       "<table border=\"1\" class=\"dataframe\">\n",
       "  <thead>\n",
       "    <tr style=\"text-align: right;\">\n",
       "      <th></th>\n",
       "      <th>username</th>\n",
       "      <th>login_dt</th>\n",
       "      <th>logout_dt</th>\n",
       "    </tr>\n",
       "  </thead>\n",
       "  <tbody>\n",
       "    <tr>\n",
       "      <th>count</th>\n",
       "      <td>4174</td>\n",
       "      <td>4174</td>\n",
       "      <td>4170</td>\n",
       "    </tr>\n",
       "    <tr>\n",
       "      <th>unique</th>\n",
       "      <td>172</td>\n",
       "      <td>3650</td>\n",
       "      <td>3162</td>\n",
       "    </tr>\n",
       "    <tr>\n",
       "      <th>top</th>\n",
       "      <td>savenkov</td>\n",
       "      <td>2013-12-06 09:34:20</td>\n",
       "      <td>2013-11-21 17:03:03</td>\n",
       "    </tr>\n",
       "    <tr>\n",
       "      <th>freq</th>\n",
       "      <td>310</td>\n",
       "      <td>3</td>\n",
       "      <td>13</td>\n",
       "    </tr>\n",
       "    <tr>\n",
       "      <th>first</th>\n",
       "      <td>NaN</td>\n",
       "      <td>2013-11-01 10:03:49</td>\n",
       "      <td>2013-11-01 10:48:48</td>\n",
       "    </tr>\n",
       "    <tr>\n",
       "      <th>last</th>\n",
       "      <td>NaN</td>\n",
       "      <td>2014-02-19 14:32:35</td>\n",
       "      <td>2014-02-19 14:22:35</td>\n",
       "    </tr>\n",
       "  </tbody>\n",
       "</table>\n",
       "</div>"
      ],
      "text/plain": [
       "        username             login_dt            logout_dt\n",
       "count       4174                 4174                 4170\n",
       "unique       172                 3650                 3162\n",
       "top     savenkov  2013-12-06 09:34:20  2013-11-21 17:03:03\n",
       "freq         310                    3                   13\n",
       "first        NaN  2013-11-01 10:03:49  2013-11-01 10:48:48\n",
       "last         NaN  2014-02-19 14:32:35  2014-02-19 14:22:35"
      ]
     },
     "execution_count": 10,
     "metadata": {},
     "output_type": "execute_result"
    }
   ],
   "source": [
    "df.describe()"
   ]
  },
  {
   "cell_type": "markdown",
   "metadata": {},
   "source": [
    "Поскольку последняя дата входа пользователей `2014-02-19 14:32:35` то можно предположить, что пользователи без даты выхода еще находятся в системе. Пропишем им последнюю дату входа + 5 секунд"
   ]
  },
  {
   "cell_type": "code",
   "execution_count": 11,
   "metadata": {},
   "outputs": [
    {
     "data": {
      "text/plain": [
       "Timestamp('2014-02-19 14:32:40')"
      ]
     },
     "execution_count": 11,
     "metadata": {},
     "output_type": "execute_result"
    }
   ],
   "source": [
    "last_login = df['login_dt'].max()\n",
    "last_login +=  pd.to_timedelta(5, unit='s')\n",
    "last_login"
   ]
  },
  {
   "cell_type": "code",
   "execution_count": 12,
   "metadata": {},
   "outputs": [],
   "source": [
    "df.fillna(last_login, axis=1, inplace=True)"
   ]
  },
  {
   "cell_type": "markdown",
   "metadata": {},
   "source": [
    "Далее, заменим имена пользователей на уникальные id чтобы легко по ним проходиться"
   ]
  },
  {
   "cell_type": "code",
   "execution_count": 13,
   "metadata": {},
   "outputs": [],
   "source": [
    "unique_logins = pd.unique(df.username)\n",
    "unique_logins = pd.Series(np.arange(len(unique_logins)), \n",
    "                          unique_logins)\n",
    "\n",
    "df['user_id'] = df.applymap(unique_logins.get)['username']"
   ]
  },
  {
   "cell_type": "code",
   "execution_count": 14,
   "metadata": {},
   "outputs": [
    {
     "data": {
      "text/html": [
       "<div>\n",
       "<style scoped>\n",
       "    .dataframe tbody tr th:only-of-type {\n",
       "        vertical-align: middle;\n",
       "    }\n",
       "\n",
       "    .dataframe tbody tr th {\n",
       "        vertical-align: top;\n",
       "    }\n",
       "\n",
       "    .dataframe thead th {\n",
       "        text-align: right;\n",
       "    }\n",
       "</style>\n",
       "<table border=\"1\" class=\"dataframe\">\n",
       "  <thead>\n",
       "    <tr style=\"text-align: right;\">\n",
       "      <th></th>\n",
       "      <th>username</th>\n",
       "      <th>login_dt</th>\n",
       "      <th>logout_dt</th>\n",
       "      <th>user_id</th>\n",
       "    </tr>\n",
       "  </thead>\n",
       "  <tbody>\n",
       "    <tr>\n",
       "      <th>131</th>\n",
       "      <td>y.dishel_oiv</td>\n",
       "      <td>2013-11-14 16:52:29</td>\n",
       "      <td>2013-11-14 17:57:28</td>\n",
       "      <td>18</td>\n",
       "    </tr>\n",
       "    <tr>\n",
       "      <th>35</th>\n",
       "      <td>d.tarasow</td>\n",
       "      <td>2013-11-06 10:48:54</td>\n",
       "      <td>2013-11-06 12:33:56</td>\n",
       "      <td>13</td>\n",
       "    </tr>\n",
       "    <tr>\n",
       "      <th>3396</th>\n",
       "      <td>a.tribunskiy</td>\n",
       "      <td>2014-01-29 10:56:08</td>\n",
       "      <td>2014-01-29 11:26:08</td>\n",
       "      <td>117</td>\n",
       "    </tr>\n",
       "    <tr>\n",
       "      <th>1732</th>\n",
       "      <td>m.medvedeva</td>\n",
       "      <td>2013-12-11 11:49:26</td>\n",
       "      <td>2013-12-11 12:39:28</td>\n",
       "      <td>44</td>\n",
       "    </tr>\n",
       "    <tr>\n",
       "      <th>630</th>\n",
       "      <td>i.golovachev</td>\n",
       "      <td>2013-11-27 11:02:50</td>\n",
       "      <td>2013-11-27 11:42:51</td>\n",
       "      <td>42</td>\n",
       "    </tr>\n",
       "  </tbody>\n",
       "</table>\n",
       "</div>"
      ],
      "text/plain": [
       "          username            login_dt           logout_dt  user_id\n",
       "131   y.dishel_oiv 2013-11-14 16:52:29 2013-11-14 17:57:28       18\n",
       "35       d.tarasow 2013-11-06 10:48:54 2013-11-06 12:33:56       13\n",
       "3396  a.tribunskiy 2014-01-29 10:56:08 2014-01-29 11:26:08      117\n",
       "1732   m.medvedeva 2013-12-11 11:49:26 2013-12-11 12:39:28       44\n",
       "630   i.golovachev 2013-11-27 11:02:50 2013-11-27 11:42:51       42"
      ]
     },
     "execution_count": 14,
     "metadata": {},
     "output_type": "execute_result"
    }
   ],
   "source": [
    "df.sample(n=5)"
   ]
  },
  {
   "cell_type": "markdown",
   "metadata": {},
   "source": [
    "Еще раз проверим датасет"
   ]
  },
  {
   "cell_type": "code",
   "execution_count": 15,
   "metadata": {},
   "outputs": [
    {
     "name": "stdout",
     "output_type": "stream",
     "text": [
      "<class 'pandas.core.frame.DataFrame'>\n",
      "RangeIndex: 4174 entries, 0 to 4173\n",
      "Data columns (total 4 columns):\n",
      "username     4174 non-null object\n",
      "login_dt     4174 non-null datetime64[ns]\n",
      "logout_dt    4174 non-null datetime64[ns]\n",
      "user_id      4174 non-null int64\n",
      "dtypes: datetime64[ns](2), int64(1), object(1)\n",
      "memory usage: 130.5+ KB\n"
     ]
    }
   ],
   "source": [
    "df.info()"
   ]
  },
  {
   "cell_type": "markdown",
   "metadata": {},
   "source": [
    "####  Алгоритм "
   ]
  },
  {
   "cell_type": "markdown",
   "metadata": {},
   "source": [
    "Создадим временной ряд от первой даты входа до последней даты выхода. По этому временному ряду будем итерироваться."
   ]
  },
  {
   "cell_type": "code",
   "execution_count": 91,
   "metadata": {},
   "outputs": [],
   "source": [
    "dt_min = df['login_dt'].min()\n",
    "dt_max = df['logout_dt'].max()\n",
    "\n",
    "# Установим шаг временного ряда в минутах\n",
    "timestep = np.arange(np.datetime64(dt_min), \n",
    "                    np.datetime64(dt_max), dtype='datetime64[m]')"
   ]
  },
  {
   "cell_type": "code",
   "execution_count": 80,
   "metadata": {},
   "outputs": [
    {
     "data": {
      "text/plain": [
       "158669"
      ]
     },
     "execution_count": 80,
     "metadata": {},
     "output_type": "execute_result"
    }
   ],
   "source": [
    "len(timestep)"
   ]
  },
  {
   "cell_type": "markdown",
   "metadata": {},
   "source": [
    "Процесс вычисления не быстрый, и в зависимости от точности шага (час, минута, секунда) занимает кратное время"
   ]
  },
  {
   "cell_type": "code",
   "execution_count": 81,
   "metadata": {},
   "outputs": [
    {
     "data": {
      "text/plain": [
       "37"
      ]
     },
     "execution_count": 81,
     "metadata": {},
     "output_type": "execute_result"
    }
   ],
   "source": [
    "ans = [sum(df['login_dt'].le(step) & df['logout_dt'].ge(step)) for step in timestep]\n",
    "max(ans)"
   ]
  },
  {
   "cell_type": "markdown",
   "metadata": {},
   "source": [
    "Мы получили ответ что максимальное количество онлайн-пользователей - __37__"
   ]
  },
  {
   "cell_type": "markdown",
   "metadata": {},
   "source": [
    "#### Визуализация результата"
   ]
  },
  {
   "cell_type": "code",
   "execution_count": 92,
   "metadata": {},
   "outputs": [
    {
     "data": {
      "image/png": "[encoded data removed]",
      "text/plain": [
       "<Figure size 1440x720 with 1 Axes>"
      ]
     },
     "metadata": {
      "needs_background": "light"
     },
     "output_type": "display_data"
    }
   ],
   "source": [
    "plt.figure(figsize=(20,10))\n",
    "plt.plot(timestep, ans)\n",
    "plt.title(f'Количество онлайн пользователей в период с {dt_min} по {dt_max}')\n",
    "plt.plot()\n",
    "plt.ylabel('Количество пользователей онлайн')\n",
    "plt.show();"
   ]
  },
  {
   "cell_type": "markdown",
   "metadata": {},
   "source": [
    "#### Доработки TODO\n",
    "Данный алгоритм считает количество одновременных сессий а не уникальных пользователей, так как один пользователь возможно имеет в системе больше одной сессии одновременно "
   ]
  },
  {
   "cell_type": "markdown",
   "metadata": {},
   "source": [
    "### Задание 2. Классифицировать выборку данных на три класса 1,2,3 путем машинного обучения.\n",
    "показать код и прокомментировать ход решения, а так же указать на проблемы с качеством решения этой задачи и варианты их решения.\n",
    "исходные данные test2.zip\n",
    "\n",
    "Колонки\n",
    "class:  0 - не определен, 1,2,3 - размеченная выборка\n",
    "material_id - технический атрибут, остальные признаки"
   ]
  },
  {
   "cell_type": "markdown",
   "metadata": {},
   "source": [
    "### Решение\n",
    "Загрузим датасет из файла"
   ]
  },
  {
   "cell_type": "code",
   "execution_count": 4,
   "metadata": {},
   "outputs": [
    {
     "name": "stderr",
     "output_type": "stream",
     "text": [
      "/anaconda3/lib/python3.7/site-packages/IPython/core/interactiveshell.py:3020: DtypeWarning: Columns (7) have mixed types. Specify dtype option on import or set low_memory=False.\n",
      "  interactivity=interactivity, compiler=compiler, result=result)\n"
     ]
    }
   ],
   "source": [
    "df = pd.read_csv('final 2.0.csv', sep=';', encoding=\"ISO-8859-1\")"
   ]
  },
  {
   "cell_type": "markdown",
   "metadata": {},
   "source": [
    "#### Подготовка датасета\n",
    "Оценим датасет"
   ]
  },
  {
   "cell_type": "code",
   "execution_count": 5,
   "metadata": {},
   "outputs": [
    {
     "name": "stdout",
     "output_type": "stream",
     "text": [
      "<class 'pandas.core.frame.DataFrame'>\n",
      "Int64Index: 66238 entries, 0 to 0\n",
      "Data columns (total 12 columns):\n",
      "class           66237 non-null float64\n",
      "material_id     66237 non-null float64\n",
      "rating          66237 non-null float64\n",
      "raters          66237 non-null float64\n",
      "starts          66237 non-null float64\n",
      "starters        66237 non-null float64\n",
      "avg_duration    66237 non-null object\n",
      "dispersion      66237 non-null float64\n",
      "homeworks       66237 non-null float64\n",
      "hw_makers       2417 non-null float64\n",
      "count           0 non-null float64\n",
      "Unnamed: 11     0 non-null float64\n",
      "dtypes: float64(11), object(1)\n",
      "memory usage: 6.6+ MB\n"
     ]
    }
   ],
   "source": [
    "df.info()"
   ]
  },
  {
   "cell_type": "code",
   "execution_count": 6,
   "metadata": {},
   "outputs": [
    {
     "data": {
      "text/html": [
       "<div>\n",
       "<style scoped>\n",
       "    .dataframe tbody tr th:only-of-type {\n",
       "        vertical-align: middle;\n",
       "    }\n",
       "\n",
       "    .dataframe tbody tr th {\n",
       "        vertical-align: top;\n",
       "    }\n",
       "\n",
       "    .dataframe thead th {\n",
       "        text-align: right;\n",
       "    }\n",
       "</style>\n",
       "<table border=\"1\" class=\"dataframe\">\n",
       "  <thead>\n",
       "    <tr style=\"text-align: right;\">\n",
       "      <th></th>\n",
       "      <th>class</th>\n",
       "      <th>material_id</th>\n",
       "      <th>rating</th>\n",
       "      <th>raters</th>\n",
       "      <th>starts</th>\n",
       "      <th>starters</th>\n",
       "      <th>avg_duration</th>\n",
       "      <th>dispersion</th>\n",
       "      <th>homeworks</th>\n",
       "      <th>hw_makers</th>\n",
       "      <th>count</th>\n",
       "      <th>Unnamed: 11</th>\n",
       "    </tr>\n",
       "  </thead>\n",
       "  <tbody>\n",
       "    <tr>\n",
       "      <th>0</th>\n",
       "      <td>19.0</td>\n",
       "      <td>3.111111</td>\n",
       "      <td>9.0</td>\n",
       "      <td>5616.0</td>\n",
       "      <td>119.0</td>\n",
       "      <td>1407.940836</td>\n",
       "      <td>20.1490246234727</td>\n",
       "      <td>0.0</td>\n",
       "      <td>0.0</td>\n",
       "      <td>NaN</td>\n",
       "      <td>NaN</td>\n",
       "      <td>NaN</td>\n",
       "    </tr>\n",
       "    <tr>\n",
       "      <th>0</th>\n",
       "      <td>21.0</td>\n",
       "      <td>3.666667</td>\n",
       "      <td>9.0</td>\n",
       "      <td>2808.0</td>\n",
       "      <td>70.0</td>\n",
       "      <td>511.284450</td>\n",
       "      <td>6.0285037233842</td>\n",
       "      <td>0.0</td>\n",
       "      <td>0.0</td>\n",
       "      <td>NaN</td>\n",
       "      <td>NaN</td>\n",
       "      <td>NaN</td>\n",
       "    </tr>\n",
       "    <tr>\n",
       "      <th>0</th>\n",
       "      <td>112.0</td>\n",
       "      <td>4.724832</td>\n",
       "      <td>149.0</td>\n",
       "      <td>1340404.0</td>\n",
       "      <td>1306.0</td>\n",
       "      <td>1296.418769</td>\n",
       "      <td>270.91688796339</td>\n",
       "      <td>0.0</td>\n",
       "      <td>0.0</td>\n",
       "      <td>3.0</td>\n",
       "      <td>NaN</td>\n",
       "      <td>NaN</td>\n",
       "    </tr>\n",
       "    <tr>\n",
       "      <th>0</th>\n",
       "      <td>181.0</td>\n",
       "      <td>3.500000</td>\n",
       "      <td>8.0</td>\n",
       "      <td>1008.0</td>\n",
       "      <td>90.0</td>\n",
       "      <td>1007.419806</td>\n",
       "      <td>10.7517440445725</td>\n",
       "      <td>0.0</td>\n",
       "      <td>0.0</td>\n",
       "      <td>NaN</td>\n",
       "      <td>NaN</td>\n",
       "      <td>NaN</td>\n",
       "    </tr>\n",
       "    <tr>\n",
       "      <th>0</th>\n",
       "      <td>182.0</td>\n",
       "      <td>3.200000</td>\n",
       "      <td>5.0</td>\n",
       "      <td>1040.0</td>\n",
       "      <td>142.0</td>\n",
       "      <td>1954.539420</td>\n",
       "      <td>12.3013797462712</td>\n",
       "      <td>0.0</td>\n",
       "      <td>0.0</td>\n",
       "      <td>NaN</td>\n",
       "      <td>NaN</td>\n",
       "      <td>NaN</td>\n",
       "    </tr>\n",
       "  </tbody>\n",
       "</table>\n",
       "</div>"
      ],
      "text/plain": [
       "   class  material_id  rating     raters  starts     starters  \\\n",
       "0   19.0     3.111111     9.0     5616.0   119.0  1407.940836   \n",
       "0   21.0     3.666667     9.0     2808.0    70.0   511.284450   \n",
       "0  112.0     4.724832   149.0  1340404.0  1306.0  1296.418769   \n",
       "0  181.0     3.500000     8.0     1008.0    90.0  1007.419806   \n",
       "0  182.0     3.200000     5.0     1040.0   142.0  1954.539420   \n",
       "\n",
       "       avg_duration  dispersion  homeworks  hw_makers  count  Unnamed: 11  \n",
       "0  20.1490246234727         0.0        0.0        NaN    NaN          NaN  \n",
       "0   6.0285037233842         0.0        0.0        NaN    NaN          NaN  \n",
       "0   270.91688796339         0.0        0.0        3.0    NaN          NaN  \n",
       "0  10.7517440445725         0.0        0.0        NaN    NaN          NaN  \n",
       "0  12.3013797462712         0.0        0.0        NaN    NaN          NaN  "
      ]
     },
     "execution_count": 6,
     "metadata": {},
     "output_type": "execute_result"
    }
   ],
   "source": [
    "df.head(5)"
   ]
  },
  {
   "cell_type": "markdown",
   "metadata": {},
   "source": [
    "Похоже, что имена полей сдвинуты. Исправим это."
   ]
  },
  {
   "cell_type": "code",
   "execution_count": 7,
   "metadata": {},
   "outputs": [
    {
     "data": {
      "text/plain": [
       "Index(['class', 'material_id', 'rating', 'raters', 'starts', 'starters',\n",
       "       'avg_duration', 'dispersion', 'homeworks', 'hw_makers', 'count',\n",
       "       'Unnamed: 11'],\n",
       "      dtype='object')"
      ]
     },
     "execution_count": 7,
     "metadata": {},
     "output_type": "execute_result"
    }
   ],
   "source": [
    "df.columns"
   ]
  },
  {
   "cell_type": "code",
   "execution_count": 8,
   "metadata": {},
   "outputs": [],
   "source": [
    "# Сдвигаем имена признаков\n",
    "df.rename(columns=dict(zip(df.columns, df.columns[1:])), inplace=True)\n",
    "\n",
    "# Создаем поле class из индекса\n",
    "df['class'] = df.index\n",
    "df.reset_index(inplace=True, drop=True)"
   ]
  },
  {
   "cell_type": "markdown",
   "metadata": {},
   "source": [
    "Еще раз оценим получившийся датафрейм"
   ]
  },
  {
   "cell_type": "code",
   "execution_count": 9,
   "metadata": {},
   "outputs": [
    {
     "data": {
      "text/html": [
       "<div>\n",
       "<style scoped>\n",
       "    .dataframe tbody tr th:only-of-type {\n",
       "        vertical-align: middle;\n",
       "    }\n",
       "\n",
       "    .dataframe tbody tr th {\n",
       "        vertical-align: top;\n",
       "    }\n",
       "\n",
       "    .dataframe thead th {\n",
       "        text-align: right;\n",
       "    }\n",
       "</style>\n",
       "<table border=\"1\" class=\"dataframe\">\n",
       "  <thead>\n",
       "    <tr style=\"text-align: right;\">\n",
       "      <th></th>\n",
       "      <th>material_id</th>\n",
       "      <th>rating</th>\n",
       "      <th>raters</th>\n",
       "      <th>starts</th>\n",
       "      <th>starters</th>\n",
       "      <th>avg_duration</th>\n",
       "      <th>dispersion</th>\n",
       "      <th>homeworks</th>\n",
       "      <th>hw_makers</th>\n",
       "      <th>count</th>\n",
       "      <th>Unnamed: 11</th>\n",
       "      <th>Unnamed: 11</th>\n",
       "      <th>class</th>\n",
       "    </tr>\n",
       "  </thead>\n",
       "  <tbody>\n",
       "    <tr>\n",
       "      <th>32626</th>\n",
       "      <td>64838.0</td>\n",
       "      <td>4.872727</td>\n",
       "      <td>109.0</td>\n",
       "      <td>38830.0</td>\n",
       "      <td>115.0</td>\n",
       "      <td>640.582266</td>\n",
       "      <td>60.3112218269607</td>\n",
       "      <td>0.0</td>\n",
       "      <td>0.0</td>\n",
       "      <td>NaN</td>\n",
       "      <td>NaN</td>\n",
       "      <td>NaN</td>\n",
       "      <td>0</td>\n",
       "    </tr>\n",
       "    <tr>\n",
       "      <th>27815</th>\n",
       "      <td>56990.0</td>\n",
       "      <td>2.500000</td>\n",
       "      <td>2.0</td>\n",
       "      <td>132.0</td>\n",
       "      <td>52.0</td>\n",
       "      <td>2286.871726</td>\n",
       "      <td>4.49786274032114</td>\n",
       "      <td>0.0</td>\n",
       "      <td>0.0</td>\n",
       "      <td>NaN</td>\n",
       "      <td>NaN</td>\n",
       "      <td>NaN</td>\n",
       "      <td>0</td>\n",
       "    </tr>\n",
       "    <tr>\n",
       "      <th>37358</th>\n",
       "      <td>72102.0</td>\n",
       "      <td>5.000000</td>\n",
       "      <td>1.0</td>\n",
       "      <td>476.0</td>\n",
       "      <td>359.0</td>\n",
       "      <td>2591.970614</td>\n",
       "      <td>15.1943766170233</td>\n",
       "      <td>0.0</td>\n",
       "      <td>0.0</td>\n",
       "      <td>NaN</td>\n",
       "      <td>NaN</td>\n",
       "      <td>NaN</td>\n",
       "      <td>0</td>\n",
       "    </tr>\n",
       "    <tr>\n",
       "      <th>12631</th>\n",
       "      <td>28903.0</td>\n",
       "      <td>4.937500</td>\n",
       "      <td>16.0</td>\n",
       "      <td>14128.0</td>\n",
       "      <td>313.0</td>\n",
       "      <td>785.856927</td>\n",
       "      <td>168.783828700118</td>\n",
       "      <td>0.0</td>\n",
       "      <td>0.0</td>\n",
       "      <td>1.0</td>\n",
       "      <td>NaN</td>\n",
       "      <td>NaN</td>\n",
       "      <td>0</td>\n",
       "    </tr>\n",
       "    <tr>\n",
       "      <th>46009</th>\n",
       "      <td>85703.0</td>\n",
       "      <td>4.400000</td>\n",
       "      <td>5.0</td>\n",
       "      <td>355.0</td>\n",
       "      <td>38.0</td>\n",
       "      <td>1380.743590</td>\n",
       "      <td>12.1795773844234</td>\n",
       "      <td>0.0</td>\n",
       "      <td>0.0</td>\n",
       "      <td>NaN</td>\n",
       "      <td>NaN</td>\n",
       "      <td>NaN</td>\n",
       "      <td>0</td>\n",
       "    </tr>\n",
       "  </tbody>\n",
       "</table>\n",
       "</div>"
      ],
      "text/plain": [
       "       material_id    rating  raters   starts  starters  avg_duration  \\\n",
       "32626      64838.0  4.872727   109.0  38830.0     115.0    640.582266   \n",
       "27815      56990.0  2.500000     2.0    132.0      52.0   2286.871726   \n",
       "37358      72102.0  5.000000     1.0    476.0     359.0   2591.970614   \n",
       "12631      28903.0  4.937500    16.0  14128.0     313.0    785.856927   \n",
       "46009      85703.0  4.400000     5.0    355.0      38.0   1380.743590   \n",
       "\n",
       "             dispersion  homeworks  hw_makers  count  Unnamed: 11  \\\n",
       "32626  60.3112218269607        0.0        0.0    NaN          NaN   \n",
       "27815  4.49786274032114        0.0        0.0    NaN          NaN   \n",
       "37358  15.1943766170233        0.0        0.0    NaN          NaN   \n",
       "12631  168.783828700118        0.0        0.0    1.0          NaN   \n",
       "46009  12.1795773844234        0.0        0.0    NaN          NaN   \n",
       "\n",
       "       Unnamed: 11  class  \n",
       "32626          NaN      0  \n",
       "27815          NaN      0  \n",
       "37358          NaN      0  \n",
       "12631          NaN      0  \n",
       "46009          NaN      0  "
      ]
     },
     "execution_count": 9,
     "metadata": {},
     "output_type": "execute_result"
    }
   ],
   "source": [
    "df.sample(n=5)"
   ]
  },
  {
   "cell_type": "code",
   "execution_count": 10,
   "metadata": {},
   "outputs": [
    {
     "name": "stdout",
     "output_type": "stream",
     "text": [
      "<class 'pandas.core.frame.DataFrame'>\n",
      "RangeIndex: 66238 entries, 0 to 66237\n",
      "Data columns (total 13 columns):\n",
      "material_id     66237 non-null float64\n",
      "rating          66237 non-null float64\n",
      "raters          66237 non-null float64\n",
      "starts          66237 non-null float64\n",
      "starters        66237 non-null float64\n",
      "avg_duration    66237 non-null float64\n",
      "dispersion      66237 non-null object\n",
      "homeworks       66237 non-null float64\n",
      "hw_makers       66237 non-null float64\n",
      "count           2417 non-null float64\n",
      "Unnamed: 11     0 non-null float64\n",
      "Unnamed: 11     0 non-null float64\n",
      "class           66238 non-null int64\n",
      "dtypes: float64(11), int64(1), object(1)\n",
      "memory usage: 6.6+ MB\n"
     ]
    }
   ],
   "source": [
    "df.info()"
   ]
  },
  {
   "cell_type": "markdown",
   "metadata": {},
   "source": [
    "Признаки `count`, `Unnamed: 11`, `Unnamed: 11` выкинем, так как они не пустые. Также, удалим  `material_id` так как это технический атрибут и признаком не является"
   ]
  },
  {
   "cell_type": "code",
   "execution_count": 11,
   "metadata": {},
   "outputs": [],
   "source": [
    "df.drop(['material_id', 'count', 'Unnamed: 11', 'Unnamed: 11'], axis=1, inplace=True)"
   ]
  },
  {
   "cell_type": "markdown",
   "metadata": {},
   "source": [
    "Также, удалим одно пустое поле"
   ]
  },
  {
   "cell_type": "code",
   "execution_count": 12,
   "metadata": {},
   "outputs": [],
   "source": [
    "df.dropna(inplace=True)"
   ]
  },
  {
   "cell_type": "markdown",
   "metadata": {},
   "source": [
    "Исследуем признак `dispersion`"
   ]
  },
  {
   "cell_type": "code",
   "execution_count": 13,
   "metadata": {},
   "outputs": [
    {
     "name": "stdout",
     "output_type": "stream",
     "text": [
      "01.ìàé 01.ìàé 01.ìàé 01.ìàé 01.ìàé 01.ìàé 01.ìàé 01.ìàé 01.ìàé 01.ìàé 01.ìàé 01.ìàé 01.ìàé 01.ìàé 04.ìàé 01.ìàé 01.ìàé 06.àâã 01.ìàé 01.ìàé 01.ìàé 01.ìàé 01.ìàé 01.ìàé 01.ìàé 01.ìàé 01.ìàé 01.ìàé 05.ìàé 09.ôåâ 01.ìàé 16.àâã 01.ìàé 04.ìàé 01.ìàé 01.ìàé 01.ìàé 01.ìàé 06.àâã 01.ìàé 01.ìàé 04.ìàé 01.ìàé 01.ìàé 01.ìàé 01.ìàé 01.ìàé 01.ìàé 01.ìàé 01.ìàé 08.àïð 01.ìàé 01.ìàé 01.ìàé 01.ìàé 01.ìàé 01.ìàé 01.ìàé 01.ìàé "
     ]
    }
   ],
   "source": [
    "error_vars = np.array([])\n",
    "for i in df['dispersion']:\n",
    "    try:\n",
    "        float(i)\n",
    "    except:\n",
    "        print(i,end=\" \")"
   ]
  },
  {
   "cell_type": "markdown",
   "metadata": {},
   "source": [
    "Некоторые поля признака записаны в неверном формате. Так как это крайне небольшая часть датасета, то уберем записи с некорректной кодировкой."
   ]
  },
  {
   "cell_type": "code",
   "execution_count": 269,
   "metadata": {},
   "outputs": [],
   "source": [
    "df['dispersion'] = pd.to_numeric(df['dispersion'], errors='coerce')\n",
    "df.dropna(axis=0, inplace=True)"
   ]
  },
  {
   "cell_type": "markdown",
   "metadata": {},
   "source": [
    "Проверим, что все признаки количествены"
   ]
  },
  {
   "cell_type": "code",
   "execution_count": 270,
   "metadata": {},
   "outputs": [
    {
     "name": "stdout",
     "output_type": "stream",
     "text": [
      "<class 'pandas.core.frame.DataFrame'>\n",
      "Int64Index: 66178 entries, 0 to 66236\n",
      "Data columns (total 9 columns):\n",
      "rating          66178 non-null float64\n",
      "raters          66178 non-null float64\n",
      "starts          66178 non-null float64\n",
      "starters        66178 non-null float64\n",
      "avg_duration    66178 non-null float64\n",
      "dispersion      66178 non-null float64\n",
      "homeworks       66178 non-null float64\n",
      "hw_makers       66178 non-null float64\n",
      "class           66178 non-null int64\n",
      "dtypes: float64(8), int64(1)\n",
      "memory usage: 5.0 MB\n"
     ]
    }
   ],
   "source": [
    "df.info()"
   ]
  },
  {
   "cell_type": "code",
   "execution_count": 16,
   "metadata": {},
   "outputs": [
    {
     "data": {
      "text/html": [
       "<div>\n",
       "<style scoped>\n",
       "    .dataframe tbody tr th:only-of-type {\n",
       "        vertical-align: middle;\n",
       "    }\n",
       "\n",
       "    .dataframe tbody tr th {\n",
       "        vertical-align: top;\n",
       "    }\n",
       "\n",
       "    .dataframe thead th {\n",
       "        text-align: right;\n",
       "    }\n",
       "</style>\n",
       "<table border=\"1\" class=\"dataframe\">\n",
       "  <thead>\n",
       "    <tr style=\"text-align: right;\">\n",
       "      <th></th>\n",
       "      <th>rating</th>\n",
       "      <th>raters</th>\n",
       "      <th>starts</th>\n",
       "      <th>starters</th>\n",
       "      <th>avg_duration</th>\n",
       "      <th>dispersion</th>\n",
       "      <th>homeworks</th>\n",
       "      <th>hw_makers</th>\n",
       "      <th>class</th>\n",
       "    </tr>\n",
       "  </thead>\n",
       "  <tbody>\n",
       "    <tr>\n",
       "      <th>count</th>\n",
       "      <td>66178.000000</td>\n",
       "      <td>66178.000000</td>\n",
       "      <td>6.617800e+04</td>\n",
       "      <td>66178.000000</td>\n",
       "      <td>66178.000000</td>\n",
       "      <td>66178.000000</td>\n",
       "      <td>66178.000000</td>\n",
       "      <td>66178.000000</td>\n",
       "      <td>66178.000000</td>\n",
       "    </tr>\n",
       "    <tr>\n",
       "      <th>mean</th>\n",
       "      <td>3.722226</td>\n",
       "      <td>4.606501</td>\n",
       "      <td>1.612287e+03</td>\n",
       "      <td>73.501436</td>\n",
       "      <td>2101.057032</td>\n",
       "      <td>18.261918</td>\n",
       "      <td>0.022500</td>\n",
       "      <td>0.016002</td>\n",
       "      <td>0.028182</td>\n",
       "    </tr>\n",
       "    <tr>\n",
       "      <th>std</th>\n",
       "      <td>1.878345</td>\n",
       "      <td>9.192697</td>\n",
       "      <td>2.622813e+04</td>\n",
       "      <td>149.539808</td>\n",
       "      <td>7825.961872</td>\n",
       "      <td>52.758845</td>\n",
       "      <td>0.255188</td>\n",
       "      <td>0.159049</td>\n",
       "      <td>0.236915</td>\n",
       "    </tr>\n",
       "    <tr>\n",
       "      <th>min</th>\n",
       "      <td>0.000000</td>\n",
       "      <td>0.000000</td>\n",
       "      <td>0.000000e+00</td>\n",
       "      <td>0.000000</td>\n",
       "      <td>0.000000</td>\n",
       "      <td>0.000000</td>\n",
       "      <td>0.000000</td>\n",
       "      <td>0.000000</td>\n",
       "      <td>0.000000</td>\n",
       "    </tr>\n",
       "    <tr>\n",
       "      <th>25%</th>\n",
       "      <td>3.500000</td>\n",
       "      <td>1.000000</td>\n",
       "      <td>3.800000e+01</td>\n",
       "      <td>16.000000</td>\n",
       "      <td>319.710402</td>\n",
       "      <td>2.865649</td>\n",
       "      <td>0.000000</td>\n",
       "      <td>0.000000</td>\n",
       "      <td>0.000000</td>\n",
       "    </tr>\n",
       "    <tr>\n",
       "      <th>50%</th>\n",
       "      <td>4.722222</td>\n",
       "      <td>2.000000</td>\n",
       "      <td>1.280000e+02</td>\n",
       "      <td>38.000000</td>\n",
       "      <td>812.615613</td>\n",
       "      <td>7.208006</td>\n",
       "      <td>0.000000</td>\n",
       "      <td>0.000000</td>\n",
       "      <td>0.000000</td>\n",
       "    </tr>\n",
       "    <tr>\n",
       "      <th>75%</th>\n",
       "      <td>5.000000</td>\n",
       "      <td>5.000000</td>\n",
       "      <td>5.360000e+02</td>\n",
       "      <td>72.000000</td>\n",
       "      <td>1737.289545</td>\n",
       "      <td>17.624433</td>\n",
       "      <td>0.000000</td>\n",
       "      <td>0.000000</td>\n",
       "      <td>0.000000</td>\n",
       "    </tr>\n",
       "    <tr>\n",
       "      <th>max</th>\n",
       "      <td>5.000000</td>\n",
       "      <td>218.000000</td>\n",
       "      <td>5.787040e+06</td>\n",
       "      <td>3128.000000</td>\n",
       "      <td>525321.202052</td>\n",
       "      <td>5683.135743</td>\n",
       "      <td>12.000000</td>\n",
       "      <td>6.000000</td>\n",
       "      <td>3.000000</td>\n",
       "    </tr>\n",
       "  </tbody>\n",
       "</table>\n",
       "</div>"
      ],
      "text/plain": [
       "             rating        raters        starts      starters   avg_duration  \\\n",
       "count  66178.000000  66178.000000  6.617800e+04  66178.000000   66178.000000   \n",
       "mean       3.722226      4.606501  1.612287e+03     73.501436    2101.057032   \n",
       "std        1.878345      9.192697  2.622813e+04    149.539808    7825.961872   \n",
       "min        0.000000      0.000000  0.000000e+00      0.000000       0.000000   \n",
       "25%        3.500000      1.000000  3.800000e+01     16.000000     319.710402   \n",
       "50%        4.722222      2.000000  1.280000e+02     38.000000     812.615613   \n",
       "75%        5.000000      5.000000  5.360000e+02     72.000000    1737.289545   \n",
       "max        5.000000    218.000000  5.787040e+06   3128.000000  525321.202052   \n",
       "\n",
       "         dispersion     homeworks     hw_makers         class  \n",
       "count  66178.000000  66178.000000  66178.000000  66178.000000  \n",
       "mean      18.261918      0.022500      0.016002      0.028182  \n",
       "std       52.758845      0.255188      0.159049      0.236915  \n",
       "min        0.000000      0.000000      0.000000      0.000000  \n",
       "25%        2.865649      0.000000      0.000000      0.000000  \n",
       "50%        7.208006      0.000000      0.000000      0.000000  \n",
       "75%       17.624433      0.000000      0.000000      0.000000  \n",
       "max     5683.135743     12.000000      6.000000      3.000000  "
      ]
     },
     "execution_count": 16,
     "metadata": {},
     "output_type": "execute_result"
    }
   ],
   "source": [
    "df.describe()"
   ]
  },
  {
   "cell_type": "markdown",
   "metadata": {},
   "source": [
    "#### Разбиение датасета\n",
    "Разобьем датасет на часть которая классифицированна и которая нет"
   ]
  },
  {
   "cell_type": "code",
   "execution_count": 21,
   "metadata": {},
   "outputs": [
    {
     "data": {
      "text/plain": [
       "0    65181\n",
       "2      702\n",
       "1      212\n",
       "3       83\n",
       "Name: class, dtype: int64"
      ]
     },
     "execution_count": 21,
     "metadata": {},
     "output_type": "execute_result"
    }
   ],
   "source": [
    "df['class'].value_counts()"
   ]
  },
  {
   "cell_type": "code",
   "execution_count": 307,
   "metadata": {},
   "outputs": [],
   "source": [
    "df_target = df[df['class'] == 0]\n",
    "df_known = df[df['class'] != 0]"
   ]
  },
  {
   "cell_type": "code",
   "execution_count": 308,
   "metadata": {},
   "outputs": [
    {
     "data": {
      "text/plain": [
       "(65181, 997)"
      ]
     },
     "execution_count": 308,
     "metadata": {},
     "output_type": "execute_result"
    }
   ],
   "source": [
    "df_target.shape[0], df_known.shape[0]"
   ]
  },
  {
   "cell_type": "code",
   "execution_count": 273,
   "metadata": {},
   "outputs": [
    {
     "data": {
      "text/plain": [
       "Index(['rating', 'raters', 'starts', 'starters', 'avg_duration', 'dispersion',\n",
       "       'homeworks', 'hw_makers'],\n",
       "      dtype='object')"
      ]
     },
     "execution_count": 273,
     "metadata": {},
     "output_type": "execute_result"
    }
   ],
   "source": [
    "df_known.columns[:-1]"
   ]
  },
  {
   "cell_type": "code",
   "execution_count": 274,
   "metadata": {},
   "outputs": [
    {
     "data": {
      "text/plain": [
       "rating             5.000000\n",
       "raters            15.000000\n",
       "starts          4844.400000\n",
       "starters         223.400000\n",
       "avg_duration    7392.467771\n",
       "dispersion        59.637099\n",
       "homeworks          0.000000\n",
       "hw_makers          0.000000\n",
       "class              3.000000\n",
       "Name: 0.95, dtype: float64"
      ]
     },
     "execution_count": 274,
     "metadata": {},
     "output_type": "execute_result"
    }
   ],
   "source": [
    "quantiles = df_known.quantile(.95)\n",
    "quantiles"
   ]
  },
  {
   "cell_type": "code",
   "execution_count": 206,
   "metadata": {},
   "outputs": [],
   "source": [
    "def cut_up_2_sigma(data, field):\n",
    "    data.loc[data[field] > quantiles[field], field] = quantiles[field]"
   ]
  },
  {
   "cell_type": "code",
   "execution_count": 289,
   "metadata": {},
   "outputs": [
    {
     "data": {
      "image/png": "[encoded data removed]",
      "text/plain": [
       "<Figure size 360x360 with 1 Axes>"
      ]
     },
     "metadata": {
      "needs_background": "light"
     },
     "output_type": "display_data"
    },
    {
     "data": {
      "image/png": "[encoded data removed]",
      "text/plain": [
       "<Figure size 360x360 with 1 Axes>"
      ]
     },
     "metadata": {
      "needs_background": "light"
     },
     "output_type": "display_data"
    },
    {
     "data": {
      "image/png": "[encoded data removed]",
      "text/plain": [
       "<Figure size 360x360 with 1 Axes>"
      ]
     },
     "metadata": {
      "needs_background": "light"
     },
     "output_type": "display_data"
    },
    {
     "data": {
      "image/png": "[encoded data removed]",
      "text/plain": [
       "<Figure size 360x360 with 1 Axes>"
      ]
     },
     "metadata": {
      "needs_background": "light"
     },
     "output_type": "display_data"
    },
    {
     "data": {
      "image/png": "[encoded data removed]",
      "text/plain": [
       "<Figure size 360x360 with 1 Axes>"
      ]
     },
     "metadata": {
      "needs_background": "light"
     },
     "output_type": "display_data"
    },
    {
     "data": {
      "image/png": "[encoded data removed]",
      "text/plain": [
       "<Figure size 360x360 with 1 Axes>"
      ]
     },
     "metadata": {
      "needs_background": "light"
     },
     "output_type": "display_data"
    },
    {
     "data": {
      "image/png": "[encoded data removed]",
      "text/plain": [
       "<Figure size 360x360 with 1 Axes>"
      ]
     },
     "metadata": {
      "needs_background": "light"
     },
     "output_type": "display_data"
    },
    {
     "data": {
      "image/png": "[encoded data removed]",
      "text/plain": [
       "<Figure size 360x360 with 1 Axes>"
      ]
     },
     "metadata": {
      "needs_background": "light"
     },
     "output_type": "display_data"
    }
   ],
   "source": [
    "for col in df_known.columns[:-1]:\n",
    "    sns.catplot(x=\"class\", y=col, kind='box', data=df_known);"
   ]
  },
  {
   "cell_type": "code",
   "execution_count": 325,
   "metadata": {},
   "outputs": [],
   "source": [
    "# Попробовать срезать выходящие за рамки значения\n",
    "def drop_behind_borders(data, quant):\n",
    "    quantiles = data.quantile(quant)\n",
    "    for col in ['raters', 'starts', 'starters', 'avg_duration', 'dispersion']:\n",
    "        data.drop(data[data[col] > quantiles[col]].index, inplace=True)\n",
    "        \n",
    "# Попробовать усреднить выходящие за рамки значения\n",
    "def mean_behind_borders(data, quant):\n",
    "    quantiles = data.quantile(quant)\n",
    "    for col in ['raters', 'starts', 'starters', 'avg_duration', 'dispersion']:\n",
    "        data.loc[data[col] > quantiles[col], col] = data[col].mean()\n",
    "        \n",
    "def do_nothing(data, quant):\n",
    "    \"\"\"Функция ничего не преобразует\"\"\""
   ]
  },
  {
   "cell_type": "markdown",
   "metadata": {},
   "source": [
    "#### Визуализация данных\n",
    "Попробуем визуализировать данные. Для начала, проверим линейную зависимость признаков между друг другом"
   ]
  },
  {
   "cell_type": "code",
   "execution_count": 208,
   "metadata": {},
   "outputs": [],
   "source": [
    "import seaborn as sns"
   ]
  },
  {
   "cell_type": "code",
   "execution_count": 305,
   "metadata": {
    "scrolled": true
   },
   "outputs": [],
   "source": [
    "# sns.pairplot(df_known)"
   ]
  },
  {
   "cell_type": "markdown",
   "metadata": {},
   "source": [
    "На графиках не прослеживается линейная зависимость признаков друг от друга.\n",
    "Давайте попробуем применить алгоритмы Случайного леса для кластеризации"
   ]
  },
  {
   "cell_type": "code",
   "execution_count": 310,
   "metadata": {},
   "outputs": [
    {
     "data": {
      "text/plain": [
       "((997, 8), (997,))"
      ]
     },
     "execution_count": 310,
     "metadata": {},
     "output_type": "execute_result"
    }
   ],
   "source": [
    "# X = df_known.drop(['class'], axis=1)\n",
    "# y = df_known['class']\n",
    "\n",
    "# X.shape, y.shape"
   ]
  },
  {
   "cell_type": "code",
   "execution_count": 279,
   "metadata": {},
   "outputs": [],
   "source": [
    "from sklearn.ensemble import RandomForestClassifier\n",
    "from sklearn.model_selection import GridSearchCV, train_test_split, cross_val_score, StratifiedShuffleSplit, LeaveOneOut\n",
    "from sklearn.metrics import accuracy_score, auc, roc_curve\n",
    "import os\n",
    "os.environ['KMP_DUPLICATE_LIB_OK']='True'\n",
    "from xgboost import XGBClassifier\n",
    "from sklearn.tree import DecisionTreeClassifier\n",
    "from sklearn.neighbors import KNeighborsClassifier"
   ]
  },
  {
   "cell_type": "markdown",
   "metadata": {},
   "source": [
    "#### Поиск наилучшего алгоритма решиляризации\n",
    "В данном блоке я попробую ликвидировать выбросы датасетов, и посмотрю на результат"
   ]
  },
  {
   "cell_type": "code",
   "execution_count": null,
   "metadata": {},
   "outputs": [],
   "source": [
    "xgbc = XGBClassifier(colsample_bytree=0.5, gamma=0.0, \n",
    "                             learning_rate=0.005, max_depth=7, \n",
    "                             min_child_weight=0.5, n_estimators=58,\n",
    "                             reg_alpha=0.9, reg_lambda=0.99,\n",
    "                             subsample=0.99,seed=42, silent=1, n_jobs=-1,\n",
    "                             random_state=42)\n",
    "\n",
    "for method in [drop_behind_borders, mean_behind_borders, do_nothing]:\n",
    "    for quant in [.85, .9, .95, .99]:\n",
    "        data = df_known.copy()\n",
    "        method(data, quant)\n",
    "#         X_train, X_test, y_train, y_test = train_test_split(data.drop(['class'], axis=1), \n",
    "#                                                             data['class'], \n",
    "#                                                             test_size=0.2, \n",
    "#                                                             random_state=42, \n",
    "#                                                             stratify=data['class'])\n",
    "        \n",
    "        \n",
    "        parametrs = [{'n_estimators': [150,200,250,500,750,1000],\n",
    "                      'max_features': [\"auto\", \"sqrt\", \"log2\"],\n",
    "                      'max_depth': np.arange(10,25)}]\n",
    "        \n",
    "        clf = GridSearchCV(estimator=xgbc, \n",
    "                           param_grid=parametrs, n_jobs=-1, cv=sss)\n",
    "        \n",
    "        clf.fit(data.drop(['class'], axis=1), data['class'])\n",
    "        \n",
    "        print(clf.best_params_, clf.best_score_, '\\n')\n",
    "#         y_predicted = xgbc.fit(X_train, y_train).predict(X_test)\n",
    "#         confusion_matrix = pd.crosstab(y_test, y_predicted, rownames=['Actual'], colnames=['Predicted'])\n",
    "#         sns.heatmap(confusion_matrix, annot=True).set_title(f'{method.__name__} with {quant}')  \n",
    "#         print(f'{method.__name__} with {quant}')\n",
    "#         print(f'###\\naccuracy_score: {accuracy_score(y_test, y_predicted):.3f} \\n')\n",
    "#         print(confusion_matrix, '\\n')"
   ]
  },
  {
   "cell_type": "code",
   "execution_count": 280,
   "metadata": {
    "scrolled": true
   },
   "outputs": [
    {
     "data": {
      "text/plain": [
       "0.733"
      ]
     },
     "execution_count": 280,
     "metadata": {},
     "output_type": "execute_result"
    }
   ],
   "source": [
    "sss = StratifiedShuffleSplit(n_splits=10, random_state=42)\n",
    "loo = LeaveOneOut()\n",
    "xgbc = XGBClassifier(colsample_bytree=0.5, gamma=0.0, \n",
    "                             learning_rate=0.005, max_depth=7, \n",
    "                             min_child_weight=0.5, n_estimators=58,\n",
    "                             reg_alpha=0.9, reg_lambda=0.99,\n",
    "                             subsample=0.99,seed=42, silent=1, n_jobs=-1,\n",
    "                             random_state=42)\n",
    "\n",
    "cross_val_score(xgbc, X, y, cv=sss).mean()\n",
    "\n"
   ]
  },
  {
   "cell_type": "code",
   "execution_count": 281,
   "metadata": {},
   "outputs": [],
   "source": [
    "scores_mean = []\n",
    "for i in range(1,30):\n",
    "    sss = StratifiedShuffleSplit(n_splits=i, random_state=42)\n",
    "    scores_mean.append(cross_val_score(xgbc, X, y, cv=sss).mean())\n",
    "    xgbc.fit(X_train, y_train)"
   ]
  },
  {
   "cell_type": "code",
   "execution_count": 282,
   "metadata": {},
   "outputs": [
    {
     "name": "stdout",
     "output_type": "stream",
     "text": [
      "0.7357142857142858\n"
     ]
    },
    {
     "data": {
      "image/png": "[encoded data removed]",
      "text/plain": [
       "<Figure size 432x288 with 1 Axes>"
      ]
     },
     "metadata": {
      "needs_background": "light"
     },
     "output_type": "display_data"
    }
   ],
   "source": [
    "plt.plot(np.arange(1,30), scores_mean)\n",
    "print(max(scores_mean))"
   ]
  },
  {
   "cell_type": "code",
   "execution_count": null,
   "metadata": {},
   "outputs": [],
   "source": []
  },
  {
   "cell_type": "code",
   "execution_count": 283,
   "metadata": {},
   "outputs": [
    {
     "name": "stdout",
     "output_type": "stream",
     "text": [
      "Accuracy for Decision Tree Classifier: 52.5%\n",
      "Accuracy for KNeighbors Classifier: 63.0%\n"
     ]
    }
   ],
   "source": [
    "X_train, X_test, y_train, y_test = train_test_split(X, y, test_size=0.2, random_state=43, stratify=y)\n",
    "\n",
    "clrTree = DecisionTreeClassifier()\n",
    "clrTree = clrTree.fit(X_train, y_train)\n",
    "outTree = clrTree.predict(X_test)\n",
    "\n",
    "clrKN = KNeighborsClassifier()\n",
    "clrKN = clrKN.fit(X_train, y_train)\n",
    "outKN = clrKN.predict(X_test)\n",
    "\n",
    "# Prediction accuracy\n",
    "print(\"Accuracy for Decision Tree Classifier: \" + str(accuracy_score(y_test, outTree)*100)+\"%\")\n",
    "print(\"Accuracy for KNeighbors Classifier: \" + str(accuracy_score(y_test, outKN)*100)+\"%\") "
   ]
  },
  {
   "cell_type": "code",
   "execution_count": 284,
   "metadata": {},
   "outputs": [
    {
     "data": {
      "text/plain": [
       "XGBClassifier(base_score=0.5, booster='gbtree', colsample_bylevel=1,\n",
       "       colsample_bytree=0.5, gamma=0.0, learning_rate=0.005,\n",
       "       max_delta_step=0, max_depth=7, min_child_weight=0.5, missing=None,\n",
       "       n_estimators=58, n_jobs=-1, nthread=None,\n",
       "       objective='multi:softprob', random_state=42, reg_alpha=0.9,\n",
       "       reg_lambda=0.99, scale_pos_weight=1, seed=42, silent=1,\n",
       "       subsample=0.99)"
      ]
     },
     "execution_count": 284,
     "metadata": {},
     "output_type": "execute_result"
    }
   ],
   "source": [
    "xgbc.fit(X_train, y_train)"
   ]
  },
  {
   "cell_type": "code",
   "execution_count": 285,
   "metadata": {},
   "outputs": [],
   "source": [
    "y_predicted = xgbc.predict(X_test)"
   ]
  },
  {
   "cell_type": "code",
   "execution_count": 265,
   "metadata": {},
   "outputs": [
    {
     "data": {
      "text/plain": [
       "array([2, 2, 2, 2, 2, 2, 2, 2, 2, 2, 2, 2, 2, 2, 2, 2, 2, 2, 2, 2, 2, 2,\n",
       "       2, 2, 2, 2, 2, 2, 2, 2, 2, 2, 2, 2, 2, 2, 2, 2, 2, 2, 3, 2, 2, 2,\n",
       "       2, 2, 2, 3, 2, 2, 2, 2, 2, 2, 2, 2, 2, 2, 2, 2, 2, 2, 2, 2, 2, 2,\n",
       "       2, 2, 2, 2, 2, 2, 2, 2, 2, 2, 3, 2, 2, 2, 2, 2, 2, 2, 2, 2, 2, 3,\n",
       "       2, 2, 2, 2, 2, 2, 2, 2, 2, 2, 2, 2, 2, 2, 2, 2, 2, 2, 2, 2, 2, 2,\n",
       "       2, 2, 2, 2, 2, 2, 3, 2, 2, 2, 2, 2, 3, 2, 2, 2, 2, 2, 2, 2, 2, 2,\n",
       "       2, 2, 2, 2, 2, 2, 2, 2, 2, 2, 2, 2, 2, 2, 2, 2, 2, 2, 2, 2, 2, 2,\n",
       "       2, 2, 2, 2, 2, 2, 2, 2, 2, 2, 2, 2, 2, 2, 2, 2, 2, 2, 2, 2, 2, 2,\n",
       "       2, 2, 2, 2, 2, 2, 2, 2, 2, 2, 2, 2, 2, 2, 2, 2, 3, 2, 2, 2, 2, 2,\n",
       "       2, 2])"
      ]
     },
     "execution_count": 265,
     "metadata": {},
     "output_type": "execute_result"
    }
   ],
   "source": [
    "y_predicted"
   ]
  },
  {
   "cell_type": "code",
   "execution_count": 128,
   "metadata": {},
   "outputs": [
    {
     "ename": "ValueError",
     "evalue": "multiclass format is not supported",
     "output_type": "error",
     "traceback": [
      "\u001b[0;31m---------------------------------------------------------------------------\u001b[0m",
      "\u001b[0;31mValueError\u001b[0m                                Traceback (most recent call last)",
      "\u001b[0;32m<ipython-input-128-dcf5bc624141>\u001b[0m in \u001b[0;36m<module>\u001b[0;34m\u001b[0m\n\u001b[0;32m----> 1\u001b[0;31m \u001b[0mfpr\u001b[0m\u001b[0;34m,\u001b[0m \u001b[0mtpr\u001b[0m\u001b[0;34m,\u001b[0m \u001b[0mthresholds\u001b[0m \u001b[0;34m=\u001b[0m \u001b[0mroc_curve\u001b[0m\u001b[0;34m(\u001b[0m\u001b[0my_test\u001b[0m\u001b[0;34m,\u001b[0m \u001b[0my_predicted\u001b[0m\u001b[0;34m)\u001b[0m\u001b[0;34m\u001b[0m\u001b[0;34m\u001b[0m\u001b[0m\n\u001b[0m",
      "\u001b[0;32m/anaconda3/lib/python3.7/site-packages/sklearn/metrics/ranking.py\u001b[0m in \u001b[0;36mroc_curve\u001b[0;34m(y_true, y_score, pos_label, sample_weight, drop_intermediate)\u001b[0m\n\u001b[1;32m    616\u001b[0m     \"\"\"\n\u001b[1;32m    617\u001b[0m     fps, tps, thresholds = _binary_clf_curve(\n\u001b[0;32m--> 618\u001b[0;31m         y_true, y_score, pos_label=pos_label, sample_weight=sample_weight)\n\u001b[0m\u001b[1;32m    619\u001b[0m \u001b[0;34m\u001b[0m\u001b[0m\n\u001b[1;32m    620\u001b[0m     \u001b[0;31m# Attempt to drop thresholds corresponding to points in between and\u001b[0m\u001b[0;34m\u001b[0m\u001b[0;34m\u001b[0m\u001b[0;34m\u001b[0m\u001b[0m\n",
      "\u001b[0;32m/anaconda3/lib/python3.7/site-packages/sklearn/metrics/ranking.py\u001b[0m in \u001b[0;36m_binary_clf_curve\u001b[0;34m(y_true, y_score, pos_label, sample_weight)\u001b[0m\n\u001b[1;32m    395\u001b[0m     if not (y_type == \"binary\" or\n\u001b[1;32m    396\u001b[0m             (y_type == \"multiclass\" and pos_label is not None)):\n\u001b[0;32m--> 397\u001b[0;31m         \u001b[0;32mraise\u001b[0m \u001b[0mValueError\u001b[0m\u001b[0;34m(\u001b[0m\u001b[0;34m\"{0} format is not supported\"\u001b[0m\u001b[0;34m.\u001b[0m\u001b[0mformat\u001b[0m\u001b[0;34m(\u001b[0m\u001b[0my_type\u001b[0m\u001b[0;34m)\u001b[0m\u001b[0;34m)\u001b[0m\u001b[0;34m\u001b[0m\u001b[0;34m\u001b[0m\u001b[0m\n\u001b[0m\u001b[1;32m    398\u001b[0m \u001b[0;34m\u001b[0m\u001b[0m\n\u001b[1;32m    399\u001b[0m     \u001b[0mcheck_consistent_length\u001b[0m\u001b[0;34m(\u001b[0m\u001b[0my_true\u001b[0m\u001b[0;34m,\u001b[0m \u001b[0my_score\u001b[0m\u001b[0;34m,\u001b[0m \u001b[0msample_weight\u001b[0m\u001b[0;34m)\u001b[0m\u001b[0;34m\u001b[0m\u001b[0;34m\u001b[0m\u001b[0m\n",
      "\u001b[0;31mValueError\u001b[0m: multiclass format is not supported"
     ]
    }
   ],
   "source": [
    "fpr, tpr, thresholds = roc_curve(y_test, y_predicted)"
   ]
  },
  {
   "cell_type": "code",
   "execution_count": 286,
   "metadata": {},
   "outputs": [
    {
     "data": {
      "text/plain": [
       "<matplotlib.axes._subplots.AxesSubplot at 0x1a330c4b00>"
      ]
     },
     "execution_count": 286,
     "metadata": {},
     "output_type": "execute_result"
    },
    {
     "data": {
      "image/png": "[encoded data removed]",
      "text/plain": [
       "<Figure size 432x288 with 2 Axes>"
      ]
     },
     "metadata": {
      "needs_background": "light"
     },
     "output_type": "display_data"
    }
   ],
   "source": [
    "confusion_matrix = pd.crosstab(y_test, y_predicted, rownames=['Actual'], colnames=['Predicted'])\n",
    "sns.heatmap(confusion_matrix, annot=True)"
   ]
  },
  {
   "cell_type": "code",
   "execution_count": 117,
   "metadata": {},
   "outputs": [
    {
     "data": {
      "text/plain": [
       "2    141\n",
       "1     42\n",
       "3     17\n",
       "Name: class, dtype: int64"
      ]
     },
     "execution_count": 117,
     "metadata": {},
     "output_type": "execute_result"
    }
   ],
   "source": [
    "y_test.value_counts()"
   ]
  },
  {
   "cell_type": "code",
   "execution_count": 118,
   "metadata": {},
   "outputs": [
    {
     "data": {
      "text/plain": [
       "array([[  2, 193],\n",
       "       [  3,   7]])"
      ]
     },
     "execution_count": 118,
     "metadata": {},
     "output_type": "execute_result"
    }
   ],
   "source": [
    "np.array(np.unique(y_predicted, return_counts=True)).T"
   ]
  },
  {
   "cell_type": "code",
   "execution_count": null,
   "metadata": {},
   "outputs": [],
   "source": []
  }
 ],
 "metadata": {
  "kernelspec": {
   "display_name": "Python 3",
   "language": "python",
   "name": "python3"
  },
  "language_info": {
   "codemirror_mode": {
    "name": "ipython",
    "version": 3
   },
   "file_extension": ".py",
   "mimetype": "text/x-python",
   "name": "python",
   "nbconvert_exporter": "python",
   "pygments_lexer": "ipython3",
   "version": "3.7.1"
  }
 },
 "nbformat": 4,
 "nbformat_minor": 2
}
